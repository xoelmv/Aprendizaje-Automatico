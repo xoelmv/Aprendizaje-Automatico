{
  "nbformat": 4,
  "nbformat_minor": 0,
  "metadata": {
    "colab": {
      "provenance": [],
      "include_colab_link": true
    },
    "kernelspec": {
      "display_name": "Python 3",
      "language": "python",
      "name": "python3"
    },
    "language_info": {
      "codemirror_mode": {
        "name": "ipython",
        "version": 3
      },
      "file_extension": ".py",
      "mimetype": "text/x-python",
      "name": "python",
      "nbconvert_exporter": "python",
      "pygments_lexer": "ipython3",
      "version": "3.7.6"
    }
  },
  "cells": [
    {
      "cell_type": "markdown",
      "metadata": {
        "id": "view-in-github",
        "colab_type": "text"
      },
      "source": [
        "<a href=\"https://colab.research.google.com/github/xoelmv/Aprendizaje-Automatico/blob/main/Lab3_Parte_2(Redes_neuronales_usando_Keras).ipynb\" target=\"_parent\"><img src=\"https://colab.research.google.com/assets/colab-badge.svg\" alt=\"Open In Colab\"/></a>"
      ]
    },
    {
      "cell_type": "markdown",
      "metadata": {
        "id": "1GxLyX9vdCnf"
      },
      "source": [
        "[![Open In Colab](https://colab.research.google.com/assets/colab-badge.svg)](https://colab.research.google.com/github/eirasf/GCED-AA2/blob/main/lab3/lab3_parte2.ipynb)\n",
        "# Práctica 2: Redes neuronales usando Keras\n",
        "## Parte 2. El modelo Sequential\n",
        "\n",
        "\n",
        "# Pre-requisitos\n",
        "\n",
        "## Instalar paquetes\n",
        "\n",
        "Para esta segunda parte también necesitaremos TensorFlow 2.0 y TensorFlow-Datasets"
      ]
    },
    {
      "cell_type": "code",
      "metadata": {
        "id": "wjX2mh1-GSga"
      },
      "source": [
        "import tensorflow as tf\n",
        "import tensorflow_datasets as tfds"
      ],
      "execution_count": 1,
      "outputs": []
    },
    {
      "cell_type": "markdown",
      "metadata": {
        "id": "xd9GpQD5WVY4"
      },
      "source": [
        "##Cargamos el conjunto de datos\n",
        "\n",
        "De nuevo, seguimos empleando el conjunto *german_credit_numeric* ya empleado en el *Laboratorio 2* y en la primera parte de este Laboratorio.\n"
      ]
    },
    {
      "cell_type": "code",
      "metadata": {
        "id": "ZHNusUEFGUvQ",
        "colab": {
          "base_uri": "https://localhost:8080/"
        },
        "outputId": "e6c1f099-1fa3-41dd-d112-c9decbb4878a"
      },
      "source": [
        "tamano_lote = 1000\n",
        "\n",
        "# Dividir el único split en entrenamiento (80%) y test (20%)\n",
        "ds_train, ds_test = tfds.load(\n",
        "    'german_credit_numeric',\n",
        "    split=['train[:80%]', 'train[80%:]'],\n",
        "    as_supervised=True\n",
        ")\n",
        "\n",
        "# Agrupar en lotes\n",
        "elems_train = ds_train.batch(tamano_lote)\n",
        "elems_test  = ds_test.batch(tamano_lote)\n",
        "\n",
        "# Primer lote de entrenamiento\n",
        "lote_entrenamiento = next(iter(elems_train))\n",
        "\n",
        "# Primer lote de test\n",
        "lote_test = next(iter(elems_test))\n",
        "\n",
        "# Comprobar tamaños\n",
        "print(\"Entrenamiento X:\", lote_entrenamiento[0].shape, \"y:\", lote_entrenamiento[1].shape)\n",
        "print(\"Test X:\", lote_test[0].shape, \"y:\", lote_test[1].shape)\n"
      ],
      "execution_count": 24,
      "outputs": [
        {
          "output_type": "stream",
          "name": "stdout",
          "text": [
            "Entrenamiento X: (800, 24) y: (800,)\n",
            "Test X: (200, 24) y: (200,)\n"
          ]
        }
      ]
    },
    {
      "cell_type": "markdown",
      "metadata": {
        "id": "ZNSojR94dP3y"
      },
      "source": [
        "También vamos a establecer la función de pérdida y el algoritmo que vamos a emplear para el entrenamiento. Además, establecemos la métrica que nos servirá para evaluar el rendimiento del modelo entrenado, en este caso usaremos Precision (se pueden consultar más métricas aquí https://keras.io/api/metrics/)"
      ]
    },
    {
      "cell_type": "code",
      "metadata": {
        "id": "oXz3n9daGXjG"
      },
      "source": [
        "# Función de pérdida\n",
        "fn_perdida = tf.keras.losses.BinaryCrossentropy()\n",
        "\n",
        "# Optimizador: SGD con tasa de aprendizaje 0.1\n",
        "optimizador = tf.keras.optimizers.SGD(learning_rate=0.1)\n",
        "\n",
        "# Métrica de evaluación: Precisión\n",
        "metrica = tf.keras.metrics.Precision(name='Precision')\n"
      ],
      "execution_count": 41,
      "outputs": []
    },
    {
      "cell_type": "markdown",
      "metadata": {
        "id": "ENqWLaw7fuxl"
      },
      "source": [
        "# Modelo *Sequential*\n",
        "\n",
        "Un modelo *Sequential* nos permite concatenar una serie de capas, tal y como hemos visto en la parte 1, donde cada capa tiene exactamente un tensor de entrada y un tensor de salida.\n",
        "Por otro lado, el modelo *Sequential* no es adecuado cuando:\n",
        "- El modelo tiene múltiples entradas o múltiples salidas\n",
        "- Cualquiera de las capas tiene múltiples entradas o múltiples salidas\n",
        "- Necesitas compartir capas\n",
        "- Se desea una topología no lineal\n",
        "\n",
        "En Keras un modelo *Sequential* se define como:\n",
        "$$model =  tf.keras.models.Sequential()$$\n",
        "El constructor puede recibir como argumentos tanto el nombre que le queremos asignar al modelo, *name*, como la lista de capas que van a conformar el modelo.\n",
        "\n",
        "Alternativamente, el método *add* nos permite ir añadiendo distintas capas al modelo. También existe un método, *pop*, que permite realizar la operación contraria, i.e, eliminar capas del modelo.\n",
        "\n",
        "Para representar el mismo modelo que hemos realizado en la parte 1 de este laboratorio incluiremos 3 capas complentamente conectadas (*Dense*), indicando las unidades (*units*) que va a tener cada capa y su función de activación (*activation*). También se puede definir la *InputLayer* que se usa como punto de entrada a la red, indicando el número de entradas que tendrá el modelo.\n",
        "Tras definir las capas, el modelo no está \"construido\", i.e., no tiene pesos.\n",
        "Para ver si la estructura de nuestro modelo es correcta, podemos construirlo (*build*) e imprimir un resumen (*summary*) que nos mostrará en modo texto la siguiente información:\n",
        "- Las capas y su orden en el modelo.\n",
        "- La forma de salida de cada capa.\n",
        "- El número de parámetros (pesos) en cada capa.\n",
        "- El número total de parámetros (pesos) en el modelo."
      ]
    },
    {
      "cell_type": "code",
      "metadata": {
        "id": "KrIOT-4DmRuu",
        "colab": {
          "base_uri": "https://localhost:8080/",
          "height": 242
        },
        "outputId": "bfc83e66-1481-4376-b7dc-71bb40a682ec"
      },
      "source": [
        "tamano_entrada = 24\n",
        "h0_size = 5\n",
        "h1_size = 3\n",
        "#TODO - define el modelo indicando un nombre\n",
        "model =  tf.keras.models.Sequential(name=\"Model\")\n",
        "\n",
        "model.add( tf.keras.layers.InputLayer((tamano_entrada,)))\n",
        "#TODO - incluye las 3 capas Dense al modelo\n",
        "model.add(tf.keras.layers.Dense(h0_size, activation=\"sigmoid\"))\n",
        "model.add(tf.keras.layers.Dense(h1_size, activation=\"sigmoid\"))\n",
        "model.add(tf.keras.layers.Dense(1, activation=\"sigmoid\"))\n",
        "\n",
        "#Se construye el modelo y se muestra\n",
        "model.build()\n",
        "print(model.summary())"
      ],
      "execution_count": 42,
      "outputs": [
        {
          "output_type": "display_data",
          "data": {
            "text/plain": [
              "\u001b[1mModel: \"Model\"\u001b[0m\n"
            ],
            "text/html": [
              "<pre style=\"white-space:pre;overflow-x:auto;line-height:normal;font-family:Menlo,'DejaVu Sans Mono',consolas,'Courier New',monospace\"><span style=\"font-weight: bold\">Model: \"Model\"</span>\n",
              "</pre>\n"
            ]
          },
          "metadata": {}
        },
        {
          "output_type": "display_data",
          "data": {
            "text/plain": [
              "┏━━━━━━━━━━━━━━━━━━━━━━━━━━━━━━━━━┳━━━━━━━━━━━━━━━━━━━━━━━━┳━━━━━━━━━━━━━━━┓\n",
              "┃\u001b[1m \u001b[0m\u001b[1mLayer (type)                   \u001b[0m\u001b[1m \u001b[0m┃\u001b[1m \u001b[0m\u001b[1mOutput Shape          \u001b[0m\u001b[1m \u001b[0m┃\u001b[1m \u001b[0m\u001b[1m      Param #\u001b[0m\u001b[1m \u001b[0m┃\n",
              "┡━━━━━━━━━━━━━━━━━━━━━━━━━━━━━━━━━╇━━━━━━━━━━━━━━━━━━━━━━━━╇━━━━━━━━━━━━━━━┩\n",
              "│ dense_9 (\u001b[38;5;33mDense\u001b[0m)                 │ (\u001b[38;5;45mNone\u001b[0m, \u001b[38;5;34m5\u001b[0m)              │           \u001b[38;5;34m125\u001b[0m │\n",
              "├─────────────────────────────────┼────────────────────────┼───────────────┤\n",
              "│ dense_10 (\u001b[38;5;33mDense\u001b[0m)                │ (\u001b[38;5;45mNone\u001b[0m, \u001b[38;5;34m3\u001b[0m)              │            \u001b[38;5;34m18\u001b[0m │\n",
              "├─────────────────────────────────┼────────────────────────┼───────────────┤\n",
              "│ dense_11 (\u001b[38;5;33mDense\u001b[0m)                │ (\u001b[38;5;45mNone\u001b[0m, \u001b[38;5;34m1\u001b[0m)              │             \u001b[38;5;34m4\u001b[0m │\n",
              "└─────────────────────────────────┴────────────────────────┴───────────────┘\n"
            ],
            "text/html": [
              "<pre style=\"white-space:pre;overflow-x:auto;line-height:normal;font-family:Menlo,'DejaVu Sans Mono',consolas,'Courier New',monospace\">┏━━━━━━━━━━━━━━━━━━━━━━━━━━━━━━━━━┳━━━━━━━━━━━━━━━━━━━━━━━━┳━━━━━━━━━━━━━━━┓\n",
              "┃<span style=\"font-weight: bold\"> Layer (type)                    </span>┃<span style=\"font-weight: bold\"> Output Shape           </span>┃<span style=\"font-weight: bold\">       Param # </span>┃\n",
              "┡━━━━━━━━━━━━━━━━━━━━━━━━━━━━━━━━━╇━━━━━━━━━━━━━━━━━━━━━━━━╇━━━━━━━━━━━━━━━┩\n",
              "│ dense_9 (<span style=\"color: #0087ff; text-decoration-color: #0087ff\">Dense</span>)                 │ (<span style=\"color: #00d7ff; text-decoration-color: #00d7ff\">None</span>, <span style=\"color: #00af00; text-decoration-color: #00af00\">5</span>)              │           <span style=\"color: #00af00; text-decoration-color: #00af00\">125</span> │\n",
              "├─────────────────────────────────┼────────────────────────┼───────────────┤\n",
              "│ dense_10 (<span style=\"color: #0087ff; text-decoration-color: #0087ff\">Dense</span>)                │ (<span style=\"color: #00d7ff; text-decoration-color: #00d7ff\">None</span>, <span style=\"color: #00af00; text-decoration-color: #00af00\">3</span>)              │            <span style=\"color: #00af00; text-decoration-color: #00af00\">18</span> │\n",
              "├─────────────────────────────────┼────────────────────────┼───────────────┤\n",
              "│ dense_11 (<span style=\"color: #0087ff; text-decoration-color: #0087ff\">Dense</span>)                │ (<span style=\"color: #00d7ff; text-decoration-color: #00d7ff\">None</span>, <span style=\"color: #00af00; text-decoration-color: #00af00\">1</span>)              │             <span style=\"color: #00af00; text-decoration-color: #00af00\">4</span> │\n",
              "└─────────────────────────────────┴────────────────────────┴───────────────┘\n",
              "</pre>\n"
            ]
          },
          "metadata": {}
        },
        {
          "output_type": "display_data",
          "data": {
            "text/plain": [
              "\u001b[1m Total params: \u001b[0m\u001b[38;5;34m147\u001b[0m (588.00 B)\n"
            ],
            "text/html": [
              "<pre style=\"white-space:pre;overflow-x:auto;line-height:normal;font-family:Menlo,'DejaVu Sans Mono',consolas,'Courier New',monospace\"><span style=\"font-weight: bold\"> Total params: </span><span style=\"color: #00af00; text-decoration-color: #00af00\">147</span> (588.00 B)\n",
              "</pre>\n"
            ]
          },
          "metadata": {}
        },
        {
          "output_type": "display_data",
          "data": {
            "text/plain": [
              "\u001b[1m Trainable params: \u001b[0m\u001b[38;5;34m147\u001b[0m (588.00 B)\n"
            ],
            "text/html": [
              "<pre style=\"white-space:pre;overflow-x:auto;line-height:normal;font-family:Menlo,'DejaVu Sans Mono',consolas,'Courier New',monospace\"><span style=\"font-weight: bold\"> Trainable params: </span><span style=\"color: #00af00; text-decoration-color: #00af00\">147</span> (588.00 B)\n",
              "</pre>\n"
            ]
          },
          "metadata": {}
        },
        {
          "output_type": "display_data",
          "data": {
            "text/plain": [
              "\u001b[1m Non-trainable params: \u001b[0m\u001b[38;5;34m0\u001b[0m (0.00 B)\n"
            ],
            "text/html": [
              "<pre style=\"white-space:pre;overflow-x:auto;line-height:normal;font-family:Menlo,'DejaVu Sans Mono',consolas,'Courier New',monospace\"><span style=\"font-weight: bold\"> Non-trainable params: </span><span style=\"color: #00af00; text-decoration-color: #00af00\">0</span> (0.00 B)\n",
              "</pre>\n"
            ]
          },
          "metadata": {}
        },
        {
          "output_type": "stream",
          "name": "stdout",
          "text": [
            "None\n"
          ]
        }
      ]
    },
    {
      "cell_type": "markdown",
      "metadata": {
        "id": "Du6zKQh4ukRa"
      },
      "source": [
        "Podemos trazar nuestro modelo como un gráfico"
      ]
    },
    {
      "cell_type": "code",
      "metadata": {
        "colab": {
          "base_uri": "https://localhost:8080/",
          "height": 317
        },
        "id": "WEiAD2DiuvYz",
        "outputId": "9fd68618-e1f9-4865-f80e-0be91226e956"
      },
      "source": [
        "tf.keras.utils.plot_model(\n",
        "    model,\n",
        "    to_file='my_first_model.png',\n",
        "    show_shapes=True,    # Muestra la forma de entrada y salida de cada capa\n",
        "    show_dtype=True,     # Muestra el tipo de dato de cada tensor\n",
        "    show_layer_names=True,\n",
        "    expand_nested=False,\n",
        "    dpi=65   # Disminuye el tamaño de la imagen (valor por defecto ~96)\n",
        ")\n"
      ],
      "execution_count": 46,
      "outputs": [
        {
          "output_type": "execute_result",
          "data": {
            "image/png": "[encoded data removed]",
            "text/plain": [
              "<IPython.core.display.Image object>"
            ]
          },
          "metadata": {},
          "execution_count": 46
        }
      ]
    },
    {
      "cell_type": "markdown",
      "metadata": {
        "id": "s1AeI0KUuTcC"
      },
      "source": [
        "Una vez que tenemos la arquitectura de nuestro modelo, podemos pasar a entrenarlo y evaluar su rendimiento.\n",
        "Comenzamos configurar su entrenamiento tenemos el método *compile* que admite como argumentos:\n",
        "1. la función de pérdida (*loss*)\n",
        "1. el algoritmo de entrenamiento (*optimizer*)\n",
        "1. la métrica para evaluar el rendimiento (*metrics*)."
      ]
    },
    {
      "cell_type": "code",
      "metadata": {
        "id": "8U_0GMdHzhpP"
      },
      "source": [
        "#TODO - indicar los parametros del método compile\n",
        "model.compile(loss=fn_perdida,\n",
        "              optimizer=optimizador,\n",
        "              metrics=[metrica])"
      ],
      "execution_count": 47,
      "outputs": []
    },
    {
      "cell_type": "markdown",
      "metadata": {
        "id": "rx2nvo6G0Qvn"
      },
      "source": [
        "Después, solo falta llamar al método *fit* que entrenará el modelo dividiendo los datos en \"batches\" de tamaño *batch_size* e iterando repetidamente sobre todo el conjunto de datos para un número determinado de *epochs*. También es necesario indicarle los datos de entrada y la salida deseada. Podemos almacenar el resultado del modelo en un objeto, lo cual nos permitirá tener un registro de los valores de pérdida y las métricas durante el entrenamiento."
      ]
    },
    {
      "cell_type": "code",
      "metadata": {
        "colab": {
          "base_uri": "https://localhost:8080/"
        },
        "id": "0EzQDyKfGfuu",
        "outputId": "b2a1cdc3-0fa4-4bdb-88f0-d859b76ad931"
      },
      "source": [
        "num_epochs =  50\n",
        "#TODO - entrenar el modelo\n",
        "history = model.fit(lote_entrenamiento[0], lote_entrenamiento[1], epochs=num_epochs, batch_size=500)\n",
        "# lote_entrenamiento[0] -> x_train\n",
        "# lote_entrenamiento[1] -> y_train"
      ],
      "execution_count": 48,
      "outputs": [
        {
          "output_type": "stream",
          "name": "stdout",
          "text": [
            "Epoch 1/50\n",
            "\u001b[1m2/2\u001b[0m \u001b[32m━━━━━━━━━━━━━━━━━━━━\u001b[0m\u001b[37m\u001b[0m \u001b[1m0s\u001b[0m 24ms/step - Precision: 0.7043 - loss: 0.6751 \n",
            "Epoch 2/50\n",
            "\u001b[1m2/2\u001b[0m \u001b[32m━━━━━━━━━━━━━━━━━━━━\u001b[0m\u001b[37m\u001b[0m \u001b[1m0s\u001b[0m 25ms/step - Precision: 0.7103 - loss: 0.6636\n",
            "Epoch 3/50\n",
            "\u001b[1m2/2\u001b[0m \u001b[32m━━━━━━━━━━━━━━━━━━━━\u001b[0m\u001b[37m\u001b[0m \u001b[1m0s\u001b[0m 26ms/step - Precision: 0.7023 - loss: 0.6570\n",
            "Epoch 4/50\n",
            "\u001b[1m2/2\u001b[0m \u001b[32m━━━━━━━━━━━━━━━━━━━━\u001b[0m\u001b[37m\u001b[0m \u001b[1m0s\u001b[0m 26ms/step - Precision: 0.7003 - loss: 0.6504\n",
            "Epoch 5/50\n",
            "\u001b[1m2/2\u001b[0m \u001b[32m━━━━━━━━━━━━━━━━━━━━\u001b[0m\u001b[37m\u001b[0m \u001b[1m0s\u001b[0m 27ms/step - Precision: 0.7090 - loss: 0.6413\n",
            "Epoch 6/50\n",
            "\u001b[1m2/2\u001b[0m \u001b[32m━━━━━━━━━━━━━━━━━━━━\u001b[0m\u001b[37m\u001b[0m \u001b[1m0s\u001b[0m 26ms/step - Precision: 0.7050 - loss: 0.6378\n",
            "Epoch 7/50\n",
            "\u001b[1m2/2\u001b[0m \u001b[32m━━━━━━━━━━━━━━━━━━━━\u001b[0m\u001b[37m\u001b[0m \u001b[1m0s\u001b[0m 28ms/step - Precision: 0.7163 - loss: 0.6286\n",
            "Epoch 8/50\n",
            "\u001b[1m2/2\u001b[0m \u001b[32m━━━━━━━━━━━━━━━━━━━━\u001b[0m\u001b[37m\u001b[0m \u001b[1m0s\u001b[0m 26ms/step - Precision: 0.6977 - loss: 0.6329\n",
            "Epoch 9/50\n",
            "\u001b[1m2/2\u001b[0m \u001b[32m━━━━━━━━━━━━━━━━━━━━\u001b[0m\u001b[37m\u001b[0m \u001b[1m0s\u001b[0m 27ms/step - Precision: 0.7123 - loss: 0.6232\n",
            "Epoch 10/50\n",
            "\u001b[1m2/2\u001b[0m \u001b[32m━━━━━━━━━━━━━━━━━━━━\u001b[0m\u001b[37m\u001b[0m \u001b[1m0s\u001b[0m 31ms/step - Precision: 0.7070 - loss: 0.6226\n",
            "Epoch 11/50\n",
            "\u001b[1m2/2\u001b[0m \u001b[32m━━━━━━━━━━━━━━━━━━━━\u001b[0m\u001b[37m\u001b[0m \u001b[1m0s\u001b[0m 26ms/step - Precision: 0.7030 - loss: 0.6223\n",
            "Epoch 12/50\n",
            "\u001b[1m2/2\u001b[0m \u001b[32m━━━━━━━━━━━━━━━━━━━━\u001b[0m\u001b[37m\u001b[0m \u001b[1m0s\u001b[0m 27ms/step - Precision: 0.7030 - loss: 0.6203\n",
            "Epoch 13/50\n",
            "\u001b[1m2/2\u001b[0m \u001b[32m━━━━━━━━━━━━━━━━━━━━\u001b[0m\u001b[37m\u001b[0m \u001b[1m0s\u001b[0m 25ms/step - Precision: 0.7063 - loss: 0.6168\n",
            "Epoch 14/50\n",
            "\u001b[1m2/2\u001b[0m \u001b[32m━━━━━━━━━━━━━━━━━━━━\u001b[0m\u001b[37m\u001b[0m \u001b[1m0s\u001b[0m 29ms/step - Precision: 0.7043 - loss: 0.6164 \n",
            "Epoch 15/50\n",
            "\u001b[1m2/2\u001b[0m \u001b[32m━━━━━━━━━━━━━━━━━━━━\u001b[0m\u001b[37m\u001b[0m \u001b[1m0s\u001b[0m 26ms/step - Precision: 0.7043 - loss: 0.6152\n",
            "Epoch 16/50\n",
            "\u001b[1m2/2\u001b[0m \u001b[32m━━━━━━━━━━━━━━━━━━━━\u001b[0m\u001b[37m\u001b[0m \u001b[1m0s\u001b[0m 26ms/step - Precision: 0.7163 - loss: 0.6063\n",
            "Epoch 17/50\n",
            "\u001b[1m2/2\u001b[0m \u001b[32m━━━━━━━━━━━━━━━━━━━━\u001b[0m\u001b[37m\u001b[0m \u001b[1m0s\u001b[0m 26ms/step - Precision: 0.7050 - loss: 0.6128\n",
            "Epoch 18/50\n",
            "\u001b[1m2/2\u001b[0m \u001b[32m━━━━━━━━━━━━━━━━━━━━\u001b[0m\u001b[37m\u001b[0m \u001b[1m0s\u001b[0m 28ms/step - Precision: 0.7097 - loss: 0.6090\n",
            "Epoch 19/50\n",
            "\u001b[1m2/2\u001b[0m \u001b[32m━━━━━━━━━━━━━━━━━━━━\u001b[0m\u001b[37m\u001b[0m \u001b[1m0s\u001b[0m 26ms/step - Precision: 0.7083 - loss: 0.6087\n",
            "Epoch 20/50\n",
            "\u001b[1m2/2\u001b[0m \u001b[32m━━━━━━━━━━━━━━━━━━━━\u001b[0m\u001b[37m\u001b[0m \u001b[1m0s\u001b[0m 26ms/step - Precision: 0.6983 - loss: 0.6152\n",
            "Epoch 21/50\n",
            "\u001b[1m2/2\u001b[0m \u001b[32m━━━━━━━━━━━━━━━━━━━━\u001b[0m\u001b[37m\u001b[0m \u001b[1m0s\u001b[0m 28ms/step - Precision: 0.7110 - loss: 0.6059\n",
            "Epoch 22/50\n",
            "\u001b[1m2/2\u001b[0m \u001b[32m━━━━━━━━━━━━━━━━━━━━\u001b[0m\u001b[37m\u001b[0m \u001b[1m0s\u001b[0m 29ms/step - Precision: 0.7023 - loss: 0.6115\n",
            "Epoch 23/50\n",
            "\u001b[1m2/2\u001b[0m \u001b[32m━━━━━━━━━━━━━━━━━━━━\u001b[0m\u001b[37m\u001b[0m \u001b[1m0s\u001b[0m 26ms/step - Precision: 0.7077 - loss: 0.6073\n",
            "Epoch 24/50\n",
            "\u001b[1m2/2\u001b[0m \u001b[32m━━━━━━━━━━━━━━━━━━━━\u001b[0m\u001b[37m\u001b[0m \u001b[1m0s\u001b[0m 25ms/step - Precision: 0.7083 - loss: 0.6065\n",
            "Epoch 25/50\n",
            "\u001b[1m2/2\u001b[0m \u001b[32m━━━━━━━━━━━━━━━━━━━━\u001b[0m\u001b[37m\u001b[0m \u001b[1m0s\u001b[0m 27ms/step - Precision: 0.7050 - loss: 0.6086\n",
            "Epoch 26/50\n",
            "\u001b[1m2/2\u001b[0m \u001b[32m━━━━━━━━━━━━━━━━━━━━\u001b[0m\u001b[37m\u001b[0m \u001b[1m0s\u001b[0m 27ms/step - Precision: 0.7050 - loss: 0.6085\n",
            "Epoch 27/50\n",
            "\u001b[1m2/2\u001b[0m \u001b[32m━━━━━━━━━━━━━━━━━━━━\u001b[0m\u001b[37m\u001b[0m \u001b[1m0s\u001b[0m 33ms/step - Precision: 0.7037 - loss: 0.6091\n",
            "Epoch 28/50\n",
            "\u001b[1m2/2\u001b[0m \u001b[32m━━━━━━━━━━━━━━━━━━━━\u001b[0m\u001b[37m\u001b[0m \u001b[1m0s\u001b[0m 26ms/step - Precision: 0.7010 - loss: 0.6109\n",
            "Epoch 29/50\n",
            "\u001b[1m2/2\u001b[0m \u001b[32m━━━━━━━━━━━━━━━━━━━━\u001b[0m\u001b[37m\u001b[0m \u001b[1m0s\u001b[0m 37ms/step - Precision: 0.7103 - loss: 0.6033\n",
            "Epoch 30/50\n",
            "\u001b[1m2/2\u001b[0m \u001b[32m━━━━━━━━━━━━━━━━━━━━\u001b[0m\u001b[37m\u001b[0m \u001b[1m0s\u001b[0m 27ms/step - Precision: 0.7110 - loss: 0.6027 \n",
            "Epoch 31/50\n",
            "\u001b[1m2/2\u001b[0m \u001b[32m━━━━━━━━━━━━━━━━━━━━\u001b[0m\u001b[37m\u001b[0m \u001b[1m0s\u001b[0m 29ms/step - Precision: 0.7063 - loss: 0.6062\n",
            "Epoch 32/50\n",
            "\u001b[1m2/2\u001b[0m \u001b[32m━━━━━━━━━━━━━━━━━━━━\u001b[0m\u001b[37m\u001b[0m \u001b[1m0s\u001b[0m 26ms/step - Precision: 0.7070 - loss: 0.6054\n",
            "Epoch 33/50\n",
            "\u001b[1m2/2\u001b[0m \u001b[32m━━━━━━━━━━━━━━━━━━━━\u001b[0m\u001b[37m\u001b[0m \u001b[1m0s\u001b[0m 31ms/step - Precision: 0.7110 - loss: 0.6021\n",
            "Epoch 34/50\n",
            "\u001b[1m2/2\u001b[0m \u001b[32m━━━━━━━━━━━━━━━━━━━━\u001b[0m\u001b[37m\u001b[0m \u001b[1m0s\u001b[0m 28ms/step - Precision: 0.7110 - loss: 0.6018\n",
            "Epoch 35/50\n",
            "\u001b[1m2/2\u001b[0m \u001b[32m━━━━━━━━━━━━━━━━━━━━\u001b[0m\u001b[37m\u001b[0m \u001b[1m0s\u001b[0m 27ms/step - Precision: 0.7103 - loss: 0.6026\n",
            "Epoch 36/50\n",
            "\u001b[1m2/2\u001b[0m \u001b[32m━━━━━━━━━━━━━━━━━━━━\u001b[0m\u001b[37m\u001b[0m \u001b[1m0s\u001b[0m 25ms/step - Precision: 0.7010 - loss: 0.6104\n",
            "Epoch 37/50\n",
            "\u001b[1m2/2\u001b[0m \u001b[32m━━━━━━━━━━━━━━━━━━━━\u001b[0m\u001b[37m\u001b[0m \u001b[1m0s\u001b[0m 27ms/step - Precision: 0.7177 - loss: 0.5964\n",
            "Epoch 38/50\n",
            "\u001b[1m2/2\u001b[0m \u001b[32m━━━━━━━━━━━━━━━━━━━━\u001b[0m\u001b[37m\u001b[0m \u001b[1m0s\u001b[0m 26ms/step - Precision: 0.7023 - loss: 0.6091\n",
            "Epoch 39/50\n",
            "\u001b[1m2/2\u001b[0m \u001b[32m━━━━━━━━━━━━━━━━━━━━\u001b[0m\u001b[37m\u001b[0m \u001b[1m0s\u001b[0m 30ms/step - Precision: 0.7117 - loss: 0.6010\n",
            "Epoch 40/50\n",
            "\u001b[1m2/2\u001b[0m \u001b[32m━━━━━━━━━━━━━━━━━━━━\u001b[0m\u001b[37m\u001b[0m \u001b[1m0s\u001b[0m 26ms/step - Precision: 0.7057 - loss: 0.6061\n",
            "Epoch 41/50\n",
            "\u001b[1m2/2\u001b[0m \u001b[32m━━━━━━━━━━━━━━━━━━━━\u001b[0m\u001b[37m\u001b[0m \u001b[1m0s\u001b[0m 28ms/step - Precision: 0.7110 - loss: 0.6015\n",
            "Epoch 42/50\n",
            "\u001b[1m2/2\u001b[0m \u001b[32m━━━━━━━━━━━━━━━━━━━━\u001b[0m\u001b[37m\u001b[0m \u001b[1m0s\u001b[0m 27ms/step - Precision: 0.7083 - loss: 0.6040\n",
            "Epoch 43/50\n",
            "\u001b[1m2/2\u001b[0m \u001b[32m━━━━━━━━━━━━━━━━━━━━\u001b[0m\u001b[37m\u001b[0m \u001b[1m0s\u001b[0m 28ms/step - Precision: 0.7023 - loss: 0.6088\n",
            "Epoch 44/50\n",
            "\u001b[1m2/2\u001b[0m \u001b[32m━━━━━━━━━━━━━━━━━━━━\u001b[0m\u001b[37m\u001b[0m \u001b[1m0s\u001b[0m 27ms/step - Precision: 0.7043 - loss: 0.6072\n",
            "Epoch 45/50\n",
            "\u001b[1m2/2\u001b[0m \u001b[32m━━━━━━━━━━━━━━━━━━━━\u001b[0m\u001b[37m\u001b[0m \u001b[1m0s\u001b[0m 37ms/step - Precision: 0.7030 - loss: 0.6081\n",
            "Epoch 46/50\n",
            "\u001b[1m2/2\u001b[0m \u001b[32m━━━━━━━━━━━━━━━━━━━━\u001b[0m\u001b[37m\u001b[0m \u001b[1m0s\u001b[0m 26ms/step - Precision: 0.7063 - loss: 0.6050\n",
            "Epoch 47/50\n",
            "\u001b[1m2/2\u001b[0m \u001b[32m━━━━━━━━━━━━━━━━━━━━\u001b[0m\u001b[37m\u001b[0m \u001b[1m0s\u001b[0m 26ms/step - Precision: 0.7070 - loss: 0.6047\n",
            "Epoch 48/50\n",
            "\u001b[1m2/2\u001b[0m \u001b[32m━━━━━━━━━━━━━━━━━━━━\u001b[0m\u001b[37m\u001b[0m \u001b[1m0s\u001b[0m 25ms/step - Precision: 0.7023 - loss: 0.6090\n",
            "Epoch 49/50\n",
            "\u001b[1m2/2\u001b[0m \u001b[32m━━━━━━━━━━━━━━━━━━━━\u001b[0m\u001b[37m\u001b[0m \u001b[1m0s\u001b[0m 26ms/step - Precision: 0.7017 - loss: 0.6094\n",
            "Epoch 50/50\n",
            "\u001b[1m2/2\u001b[0m \u001b[32m━━━━━━━━━━━━━━━━━━━━\u001b[0m\u001b[37m\u001b[0m \u001b[1m0s\u001b[0m 26ms/step - Precision: 0.7077 - loss: 0.6040\n"
          ]
        }
      ]
    },
    {
      "cell_type": "code",
      "source": [
        "import matplotlib.pyplot as plt\n",
        "\n",
        "plt.plot(history.history['loss'])\n",
        "plt.title('Model loss')\n",
        "plt.ylabel('Loss')\n",
        "plt.xlabel('Epoch')\n",
        "plt.legend(['Train', 'Test'], loc='upper left')\n",
        "plt.show()"
      ],
      "metadata": {
        "colab": {
          "base_uri": "https://localhost:8080/",
          "height": 472
        },
        "id": "4iMmkFEiND7g",
        "outputId": "65835acc-34f2-4ed0-ace1-ac817392d2f9"
      },
      "execution_count": 49,
      "outputs": [
        {
          "output_type": "display_data",
          "data": {
            "text/plain": [
              "<Figure size 640x480 with 1 Axes>"
            ],
            "image/png": "[encoded data removed]"
          },
          "metadata": {}
        }
      ]
    },
    {
      "cell_type": "markdown",
      "metadata": {
        "id": "UatqCYAh3jjd"
      },
      "source": [
        "Una vez el modelo está entrenado, podemos evaluarlo (método *evaluate*) con un nuevo conjunto de datos no usado durante el entrenamiento (el conjunto de *test*) para ver su rendimiento. En este caso, por simplicidad y a modo de ejemplo, evaluaremos sobre todo el conjunto."
      ]
    },
    {
      "cell_type": "code",
      "metadata": {
        "id": "lb-utxTvWSq7",
        "colab": {
          "base_uri": "https://localhost:8080/"
        },
        "outputId": "2bcb420c-c4b2-48b5-ff4b-e8e8720be0b4"
      },
      "source": [
        "#TODO - llamar a evaluate, guardando el resultado\n",
        "result = model.evaluate(lote_test[0], lote_test[1])"
      ],
      "execution_count": 50,
      "outputs": [
        {
          "output_type": "stream",
          "name": "stdout",
          "text": [
            "\u001b[1m7/7\u001b[0m \u001b[32m━━━━━━━━━━━━━━━━━━━━\u001b[0m\u001b[37m\u001b[0m \u001b[1m0s\u001b[0m 6ms/step - Precision: 0.6501 - loss: 0.6562  \n"
          ]
        }
      ]
    },
    {
      "cell_type": "markdown",
      "metadata": {
        "id": "CxHjSyLR4jNG"
      },
      "source": [
        "Por último, mostramos el resultado obtenido"
      ]
    },
    {
      "cell_type": "code",
      "metadata": {
        "id": "DTTS2X0nWSq8",
        "colab": {
          "base_uri": "https://localhost:8080/"
        },
        "outputId": "78d555d8-ab9f-49a2-e1df-ae23c351b2c6"
      },
      "source": [
        "print(model.metrics_names)\n",
        "print(result)"
      ],
      "execution_count": 51,
      "outputs": [
        {
          "output_type": "stream",
          "name": "stdout",
          "text": [
            "['loss', 'compile_metrics']\n",
            "[0.6377445459365845, 0.6700000166893005]\n"
          ]
        }
      ]
    }
  ]
}